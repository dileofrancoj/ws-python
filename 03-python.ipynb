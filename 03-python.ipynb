{
 "cells": [
  {
   "cell_type": "markdown",
   "id": "1c72b90a-41c6-4cd6-8ae0-e3047d58453c",
   "metadata": {},
   "source": [
    "# Temas de hoy\n",
    "\n",
    "- Repaso de ciclos\n",
    "- Funciones\n",
    "- Diccionarios\n",
    "\n",
    "Ejercicio 1: Múltiplos de 3 y 5\n",
    "\n",
    "Recorrer los números del 1 al 50. Para cada número:\n",
    "* Si es múltiplo de 3, imprime \"Fizz\".\n",
    "* Si es múltiplo de 5, imprime \"Buzz\".\n",
    "* Si es múltiplo de ambos, imprime \"FizzBuzz\". -> si es multiplo de 3 Y es multiplo de 5 => FizzBuzz\n",
    "* Si no es múltiplo de ninguno, imprime el número.\n",
    "\n",
    "Ejercicio 2 Duplicar elementos de una lista\n",
    "\n",
    "Pide al usuario que ingrese 5 números enteros. Guarda esos números en una lista. Recorre la lista con un for y multiplica cada número por 2, luego guarda el resultado en otra lista e imprime el resultado."
   ]
  },
  {
   "cell_type": "code",
   "execution_count": 25,
   "id": "2ec4d9f2-f255-4322-b546-a5f0c8f41c71",
   "metadata": {},
   "outputs": [
    {
     "name": "stdout",
     "output_type": "stream",
     "text": [
      "3 > 1 True\n",
      "3 < 1 False\n",
      "3 == 1 False\n",
      "3 >= 1 True\n",
      "3 <= 1 False\n",
      "3 != 2 True\n",
      "10 % 3 1\n"
     ]
    }
   ],
   "source": [
    "print(\"3 > 1\", 3 > 1)\n",
    "print(\"3 < 1\", 3 < 1)\n",
    "print(\"3 == 1\", 3 == 1)\n",
    "print(\"3 >= 1\", 3 >= 1)\n",
    "print(\"3 <= 1\", 3 <= 1)\n",
    "print(\"3 != 2\", 3 != 2) # <>\n",
    "print(\"10 % 3\", 10%3)"
   ]
  },
  {
   "cell_type": "code",
   "execution_count": 30,
   "id": "15dac280-523c-4c7c-a3d8-d4a5330f13b5",
   "metadata": {},
   "outputs": [
    {
     "data": {
      "text/plain": [
       "1"
      ]
     },
     "execution_count": 30,
     "metadata": {},
     "output_type": "execute_result"
    }
   ],
   "source": [
    "# Operadores resto\n",
    "# Devuelve el resto de la división entre un numero y otro\n",
    "# Ejemplo \n",
    "5 % 2"
   ]
  },
  {
   "cell_type": "markdown",
   "id": "9817c187-cbd6-4cd1-8027-eebaad4dff90",
   "metadata": {},
   "source": [
    "Operadores logicos\n",
    "-> AND (se deben cumplir ambas condiciones)\n",
    "-> OR (se debe cumplir alguna de las condiciones)\n",
    "-> != NOT\n",
    "-> XOR, NOR"
   ]
  },
  {
   "cell_type": "code",
   "execution_count": 47,
   "id": "4b082f46-4982-460f-bdc2-85f6f25e7f2e",
   "metadata": {},
   "outputs": [
    {
     "name": "stdout",
     "output_type": "stream",
     "text": [
      "1\n",
      "2\n",
      "Fizz\n",
      "4\n",
      "Buzz\n",
      "Fizz\n",
      "7\n",
      "8\n",
      "Fizz\n",
      "Buzz\n",
      "11\n",
      "Fizz\n",
      "13\n",
      "14\n",
      "FizzBuzz\n"
     ]
    }
   ],
   "source": [
    "# - for\n",
    "# resto\n",
    "numeros = [1,2,3,4,5,6,7,8,9,10,11,12,13,14,15]\n",
    "for numero in numeros:\n",
    "    if numero % 3 == 0 and numero % 5 == 0: \n",
    "        print(\"FizzBuzz\")\n",
    "    elif numero % 3 == 0: # si el resto de la división entre numero (iterando) y 3 es cero entonces\n",
    "        print(\"Fizz\")\n",
    "    elif numero % 5 == 0: # si el resto de la división entre numero (iterando) y 5 es cero entonces\n",
    "        print(\"Buzz\")\n",
    "    else:\n",
    "        print(numero)        "
   ]
  },
  {
   "cell_type": "code",
   "execution_count": 50,
   "id": "213a204d-92ad-4e47-a267-78b6e6d55034",
   "metadata": {},
   "outputs": [
    {
     "name": "stdout",
     "output_type": "stream",
     "text": [
      "1\n",
      "2\n",
      "Fizz\n",
      "4\n",
      "Buzz\n",
      "Fizz\n",
      "7\n",
      "8\n",
      "Fizz\n",
      "Buzz\n",
      "11\n",
      "Fizz\n",
      "13\n",
      "14\n",
      "FizzBuzz\n",
      "16\n",
      "17\n",
      "Fizz\n",
      "19\n",
      "Buzz\n",
      "Fizz\n",
      "22\n",
      "23\n",
      "Fizz\n",
      "Buzz\n",
      "26\n",
      "Fizz\n",
      "28\n",
      "29\n",
      "FizzBuzz\n",
      "31\n",
      "32\n",
      "Fizz\n",
      "34\n",
      "Buzz\n",
      "Fizz\n",
      "37\n",
      "38\n",
      "Fizz\n",
      "Buzz\n",
      "41\n",
      "Fizz\n",
      "43\n",
      "44\n",
      "FizzBuzz\n",
      "46\n",
      "47\n",
      "Fizz\n",
      "49\n",
      "Buzz\n"
     ]
    }
   ],
   "source": [
    "for numero in range(1,51):\n",
    "    if numero % 3 == 0 and numero % 5 == 0: \n",
    "        print(\"FizzBuzz\")\n",
    "    elif numero % 3 == 0: # si el resto de la división entre numero (iterando) y 3 es cero entonces\n",
    "        print(\"Fizz\")\n",
    "    elif numero % 5 == 0: # si el resto de la división entre numero (iterando) y 5 es cero entonces\n",
    "        print(\"Buzz\")\n",
    "    else:\n",
    "        print(numero)   "
   ]
  },
  {
   "cell_type": "code",
   "execution_count": 43,
   "id": "10f3ad60-177c-4191-b6c7-e4041d93ce26",
   "metadata": {},
   "outputs": [],
   "source": [
    "nombres = [\"Tiago\", \"brian\", \"Fran\", \"Fran\", \"Patri\"]"
   ]
  },
  {
   "cell_type": "code",
   "execution_count": 15,
   "id": "9fcf70e1-4760-43cf-9528-8eda958803e8",
   "metadata": {},
   "outputs": [
    {
     "name": "stdout",
     "output_type": "stream",
     "text": [
      "9.Dada una lista de números, recorréla y contá cuántos valores son mayores que 10 y cuantos iguales a 10\n",
      "Hay 2 numeros mayores a 10\n",
      "Hay 1 numeros igual a 10\n"
     ]
    }
   ],
   "source": [
    "# Ejemplo Patri\n",
    "numeros = [12,-2,-8,-1.4,5/2,-35, 20, 10]\n",
    "\n",
    "# if numeros > 10 no es correcto porque hay muchos elementos en la lista. Debo recorrerla con for\n",
    "print(f'9.Dada una lista de números, recorréla y contá cuántos valores son mayores que 10 y cuantos iguales a 10')\n",
    "suma_mayores_10 = 0\n",
    "suma_iguales_10 = 0 # asigna\n",
    "# un igual asigna ; == compara\n",
    "for numero in numeros:\n",
    "    if numero > 10: # bloque\n",
    "        # suma_mayores_10 = suma_mayores_10 + 1\n",
    "        suma_mayores_10 += 1 # al valor que ya tenemos de suma_mayores_10 incrementalo en 1\n",
    "    elif numero == 10: # == compara -> ¿numero es igual a 10 ?\n",
    "        suma_iguales_10 += 1 # a la variable suma_iguales_10 incrementala en 1 (0 +1, 1 + 1) acumulador\n",
    "        # los iguales a 10 y los menores a 10\n",
    "        \n",
    "print(f\"Hay {suma_mayores_10} numeros mayores a 10\")\n",
    "print(f\"Hay {suma_iguales_10} numeros igual a 10\")"
   ]
  },
  {
   "cell_type": "code",
   "execution_count": 9,
   "id": "a64f1a8c-df94-4c53-b5ed-61918b4ea848",
   "metadata": {},
   "outputs": [
    {
     "data": {
      "text/plain": [
       "list"
      ]
     },
     "execution_count": 9,
     "metadata": {},
     "output_type": "execute_result"
    }
   ],
   "source": [
    "type(numeros)"
   ]
  },
  {
   "cell_type": "code",
   "execution_count": 1,
   "id": "fd7db8c4-a305-40b9-8ae9-97cf437cbbd6",
   "metadata": {},
   "outputs": [],
   "source": [
    "# 1. "
   ]
  },
  {
   "cell_type": "markdown",
   "id": "537472b0-a0ab-42ce-a724-9e559743c830",
   "metadata": {},
   "source": [
    "# 2.Ejercicio Duplicar elementos de una lista\n",
    "\n",
    "Pide al usuario que ingrese 5 números enteros. Guarda esos números en una lista. \n",
    "\n",
    "Recorre la lista con un for y multiplica cada número por 2, luego guarda el resultado en otra lista e imprime el resultado."
   ]
  },
  {
   "cell_type": "code",
   "execution_count": 64,
   "id": "db21b1b5-705e-4060-a332-40fc07e747d3",
   "metadata": {},
   "outputs": [
    {
     "name": "stdin",
     "output_type": "stream",
     "text": [
      "Estimado/a, ingrese un numero entero (Z), por favor 10\n",
      "Estimado/a, ingrese un numero entero (Z), por favor 29\n",
      "Estimado/a, ingrese un numero entero (Z), por favor 8\n"
     ]
    }
   ],
   "source": [
    "numeros = []\n",
    "for i in range(3): # ejecuta 5 veces la siguientes instrucciones\n",
    "    num = int(input(\"Estimado/a, ingrese un numero entero (Z), por favor\"))\n",
    "    numeros.append(num)"
   ]
  },
  {
   "cell_type": "code",
   "execution_count": 65,
   "id": "8a982192-44dc-4808-b27d-1178259f2acc",
   "metadata": {},
   "outputs": [
    {
     "data": {
      "text/plain": [
       "[10, 29, 8]"
      ]
     },
     "execution_count": 65,
     "metadata": {},
     "output_type": "execute_result"
    }
   ],
   "source": [
    "numeros"
   ]
  },
  {
   "cell_type": "code",
   "execution_count": 66,
   "id": "e6db84d7-46b1-4bc6-95c8-de5d5266084f",
   "metadata": {},
   "outputs": [],
   "source": [
    "numeros_duplicados = []\n",
    "for numero in numeros:\n",
    "    numeros_duplicados.append(numero * 2) "
   ]
  },
  {
   "cell_type": "code",
   "execution_count": 69,
   "id": "1ee3b45b-4192-4385-ac56-6440e32ce507",
   "metadata": {},
   "outputs": [
    {
     "data": {
      "text/plain": [
       "[20, 58, 16]"
      ]
     },
     "execution_count": 69,
     "metadata": {},
     "output_type": "execute_result"
    }
   ],
   "source": [
    "numeros_duplicados"
   ]
  },
  {
   "cell_type": "code",
   "execution_count": 71,
   "id": "29f8aa52-e504-401e-82f4-a357c0e912a5",
   "metadata": {},
   "outputs": [],
   "source": [
    "len_numeros = len(numeros)"
   ]
  },
  {
   "cell_type": "markdown",
   "id": "6cff1b63-cb11-4a3a-8b64-0943c5d3619e",
   "metadata": {},
   "source": [
    "🧠 ¿Qué es una función en Python?\n",
    "Una función es un bloque de código reutilizable que realiza una tarea específica. Las funciones te ayudan a organizar, reutilizar y modularizar tu código.\n",
    "\n",
    "```\n",
    "def nombre_de_la_funcion(parametros):\n",
    "    # Código que se ejecuta\n",
    "    return resultado  # (opcional)\n",
    "```"
   ]
  },
  {
   "cell_type": "code",
   "execution_count": 80,
   "id": "9f9157f6-7e60-4c6f-9790-a1340c9c5528",
   "metadata": {},
   "outputs": [],
   "source": [
    "def saludar():\n",
    "    print(\"Hola comunidad hermosa, si decimos enteros no pongamos N que a Patri le da algo\")"
   ]
  },
  {
   "cell_type": "code",
   "execution_count": 78,
   "id": "3d742141-3607-4be0-ad97-2c8d84e97652",
   "metadata": {},
   "outputs": [
    {
     "name": "stdout",
     "output_type": "stream",
     "text": [
      "Hola comunidad hermosa, si decimos enteros no pongamos N que a Patri le da algo\n"
     ]
    }
   ],
   "source": [
    "saludar()"
   ]
  },
  {
   "cell_type": "markdown",
   "id": "d923f8a8-6f36-4515-bc74-8ee9bf56bcb2",
   "metadata": {},
   "source": [
    "```\n",
    "def nombre_de_la_funcion(parametros):\n",
    "    # Código que se ejecuta\n",
    "    return resultado  # (opcional)\n",
    "```"
   ]
  },
  {
   "cell_type": "code",
   "execution_count": 89,
   "id": "cfbd8c6d-9167-4dc3-bdac-ad76676c9c0a",
   "metadata": {},
   "outputs": [],
   "source": [
    "def saludar_por_nombre(nombre):\n",
    "    print(f\"Bienvenido/a a la clase 3 de Python 🐍: {nombre}\")\n"
   ]
  },
  {
   "cell_type": "code",
   "execution_count": 91,
   "id": "6c59cdfe-a1df-4ccf-9e5c-003aabf3a89a",
   "metadata": {},
   "outputs": [
    {
     "name": "stdout",
     "output_type": "stream",
     "text": [
      "Bienvenido/a a la clase 3 de Python 🐍: Patri\n",
      "Hola comunidad hermosa, si decimos enteros no pongamos N que a Patri le da algo\n"
     ]
    }
   ],
   "source": [
    "saludar_por_nombre(\"Patri\")"
   ]
  },
  {
   "cell_type": "markdown",
   "id": "eebb10d9-b040-4c3a-ae61-2de2acf7dd83",
   "metadata": {},
   "source": [
    "Confeccionar una función que reciba 2 parametros, el nombre y una lista de hobbies.\n",
    "\n",
    "Imprimir dentro de la función el nombre, la cantidad de hobbies y cada hobbie de la persona\n",
    "Y si la persona hace ceramica, mostrar un mensaje que diga, que buena onda! "
   ]
  },
  {
   "cell_type": "code",
   "execution_count": 108,
   "id": "15f192c2-7c02-4953-86db-8f33c3c68cd0",
   "metadata": {},
   "outputs": [],
   "source": [
    "def cargar_hobbies():\n",
    "    print(\"Despues vemos\")\n",
    "\n",
    "def saludar_hobbies(nombre, hobbies):\n",
    "    print(f\"Hola 👋 {nombre}\")\n",
    "    cantidad_hobbies = len(hobbies)\n",
    "    print(f\"Cantidad de hobbies: {len(hobbies)}\")\n",
    "    for hobbie in hobbies:\n",
    "        if hobbie == \"ceramica\" or hobbie == \"cerámica\":\n",
    "            print(\"Ey 🏺, haces cerámica, que buena onda\")\n",
    "        else:\n",
    "            print(hobbie)\n",
    "        "
   ]
  },
  {
   "cell_type": "code",
   "execution_count": 110,
   "id": "b09e5805-d6cb-4a78-bad2-8ced67a3c784",
   "metadata": {},
   "outputs": [
    {
     "name": "stdout",
     "output_type": "stream",
     "text": [
      "Hola 👋 Brian\n",
      "Cantidad de hobbies: 5\n",
      "Leer\n",
      "L4 Pl4y\n",
      "🐍\n",
      "Leer la docu de python\n",
      "Ey 🏺, haces cerámica, que buena onda\n"
     ]
    }
   ],
   "source": [
    "saludar_hobbies(\"Brian\", [\"Leer\",\"L4 Pl4y\", \"🐍\", \"Leer la docu de python\", \"ceramica\"])"
   ]
  },
  {
   "cell_type": "code",
   "execution_count": 114,
   "id": "9019bc93-b8ed-4b03-9bcb-c76a3d7a72cc",
   "metadata": {},
   "outputs": [],
   "source": [
    "import numpy as np"
   ]
  },
  {
   "cell_type": "code",
   "execution_count": 112,
   "id": "2b3c6e2b-5191-48a4-bc93-af587353f481",
   "metadata": {},
   "outputs": [],
   "source": [
    "nums = [10,20,80,102, 43,73, 41]"
   ]
  },
  {
   "cell_type": "code",
   "execution_count": 116,
   "id": "767bcd78-cbcc-451b-95bd-43a04aaa90ce",
   "metadata": {},
   "outputs": [],
   "source": [
    "mean = np.mean(nums)"
   ]
  },
  {
   "cell_type": "code",
   "execution_count": 118,
   "id": "6bc13941-eabc-46f7-8c58-4f13f70f0a93",
   "metadata": {},
   "outputs": [
    {
     "name": "stdout",
     "output_type": "stream",
     "text": [
      "52.714285714285715\n"
     ]
    }
   ],
   "source": [
    "print(mean)"
   ]
  },
  {
   "cell_type": "code",
   "execution_count": 120,
   "id": "3a2c00c8-4812-483d-8779-06c41143b8ea",
   "metadata": {},
   "outputs": [],
   "source": [
    "# Calculo estadístico: armar una función para calcular medidas estadísticas básicas (media, mediana, min, max)"
   ]
  },
  {
   "cell_type": "code",
   "execution_count": 121,
   "id": "4b2fab82-78bf-4026-929e-06525300a1f6",
   "metadata": {},
   "outputs": [
    {
     "data": {
      "text/plain": [
       "55"
      ]
     },
     "execution_count": 121,
     "metadata": {},
     "output_type": "execute_result"
    }
   ],
   "source": [
    "sum([1,2,3,4,5,6,7,8,9,10])"
   ]
  },
  {
   "cell_type": "code",
   "execution_count": 142,
   "id": "e63814ad-9a24-4ebf-95d4-e91a01533f42",
   "metadata": {},
   "outputs": [],
   "source": [
    "def calcular_media(nums):\n",
    "    n = len(nums)\n",
    "    # sumar los numeros y dividir por la cantidad de elementos\n",
    "    \"\"\"\n",
    "    suma = 0\n",
    "    for num in nums:\n",
    "        suma = num + sum\n",
    "        suma += num # acumulador\n",
    "    Comentario multilinea\n",
    "    \"\"\"\n",
    "    suma = sum(nums) # la función sum me devuelve la suma sobre los elementos de una lista\n",
    "    print(f\"La media es: {suma/n}\")\n",
    "    \n",
    "def medidas_estadisticas(nums):\n",
    "    calcular_media(nums)\n",
    "    print(f\"El mínimo es: {min(nums)}\")\n",
    "    print(f\"El máximo es: {max(nums)}\")\n",
    "    median = np.median(nums) \n",
    "    print(f\"La mediana es {median}\")\n",
    "    print(f\"El percentil 75 es {np.percentile(nums,75)}\")\n",
    "    print(f\"El percentil 90 es {np.percentile(nums,90)}\")\n",
    "\n",
    "    # mediana -> libreria\n",
    "    # media -> a manopla pero con funciones propias de python\n",
    "    # min, max -> con funciones de python\n",
    "    "
   ]
  },
  {
   "cell_type": "code",
   "execution_count": 130,
   "id": "c4fc443e-ecf0-4c4a-8f73-958e3ea9fb4c",
   "metadata": {},
   "outputs": [
    {
     "data": {
      "text/plain": [
       "[1, 2, 3, 4, 5, 6, 7, 8, 9, 10]"
      ]
     },
     "execution_count": 130,
     "metadata": {},
     "output_type": "execute_result"
    }
   ],
   "source": [
    "list(range(1,11))"
   ]
  },
  {
   "cell_type": "code",
   "execution_count": 139,
   "id": "4a859af3-89f6-438f-8515-1382461203a3",
   "metadata": {},
   "outputs": [
    {
     "name": "stdout",
     "output_type": "stream",
     "text": [
      "La media es: 5.5\n",
      "El mínimo es: 1\n",
      "El máximo es: 10\n",
      "La mediana es 5.5\n"
     ]
    }
   ],
   "source": [
    "medidas_estadisticas(list(range(1,11)))"
   ]
  },
  {
   "cell_type": "code",
   "execution_count": 143,
   "id": "c1f7843c-2c05-4512-9ac8-44126f53392f",
   "metadata": {},
   "outputs": [
    {
     "name": "stdout",
     "output_type": "stream",
     "text": [
      "La media es: 60.0\n",
      "El mínimo es: 49\n",
      "El máximo es: 71\n",
      "La mediana es 60.0\n",
      "El percentil 75 es 68.0\n",
      "El percentil 90 es 69.8\n"
     ]
    }
   ],
   "source": [
    "medidas_estadisticas([49,52,60,71,68])"
   ]
  },
  {
   "cell_type": "code",
   "execution_count": 144,
   "id": "41da0502-b0a1-4301-bc5b-197028edf8b8",
   "metadata": {},
   "outputs": [
    {
     "data": {
      "text/plain": [
       "68.6"
      ]
     },
     "execution_count": 144,
     "metadata": {},
     "output_type": "execute_result"
    }
   ],
   "source": [
    "np.percentile([49,52,60,71,68], 80) # el 90% de las edades es 69.8 o menos el 10% es mas de 69.8"
   ]
  },
  {
   "cell_type": "code",
   "execution_count": null,
   "id": "a9e9596d-fd4f-434e-8c23-c6006e174f4b",
   "metadata": {},
   "outputs": [],
   "source": []
  },
  {
   "cell_type": "code",
   "execution_count": null,
   "id": "171e252c-0d32-450d-a415-69528487a14e",
   "metadata": {},
   "outputs": [],
   "source": []
  },
  {
   "cell_type": "code",
   "execution_count": null,
   "id": "86104b28-7f0d-4dad-a809-41900bd37d70",
   "metadata": {},
   "outputs": [],
   "source": []
  },
  {
   "cell_type": "code",
   "execution_count": null,
   "id": "d22a82e4-898b-40ca-ae8d-d507c2dc2068",
   "metadata": {},
   "outputs": [],
   "source": []
  },
  {
   "cell_type": "code",
   "execution_count": null,
   "id": "f229b0f3-125c-4b16-8e36-74652ef085d2",
   "metadata": {},
   "outputs": [],
   "source": []
  },
  {
   "cell_type": "code",
   "execution_count": null,
   "id": "83a2ac43-73e6-49eb-9a9f-cfcda9dde57f",
   "metadata": {},
   "outputs": [],
   "source": []
  },
  {
   "cell_type": "code",
   "execution_count": null,
   "id": "d6042742-db6c-4db5-83f5-069bf4cec9f5",
   "metadata": {},
   "outputs": [],
   "source": []
  },
  {
   "cell_type": "code",
   "execution_count": null,
   "id": "b20cef03-7d4b-4862-8a42-07c3fab48fb5",
   "metadata": {},
   "outputs": [],
   "source": []
  },
  {
   "cell_type": "code",
   "execution_count": null,
   "id": "fa33482d-0ab0-4125-98d3-576f2a5a14c2",
   "metadata": {},
   "outputs": [],
   "source": []
  },
  {
   "cell_type": "code",
   "execution_count": null,
   "id": "9d0aeeca-690e-4f7f-9175-4e1e8ba41f37",
   "metadata": {},
   "outputs": [],
   "source": []
  },
  {
   "cell_type": "code",
   "execution_count": null,
   "id": "21198370-c41d-4e36-a303-6f546fd3ff99",
   "metadata": {},
   "outputs": [],
   "source": []
  },
  {
   "cell_type": "code",
   "execution_count": null,
   "id": "5d3c59fb-f4c8-483c-92b2-2f03a19e00bf",
   "metadata": {},
   "outputs": [],
   "source": []
  },
  {
   "cell_type": "code",
   "execution_count": null,
   "id": "1cc738bb-2619-4e33-bc79-262b2b85dec9",
   "metadata": {},
   "outputs": [],
   "source": []
  }
 ],
 "metadata": {
  "kernelspec": {
   "display_name": "Python 3 (ipykernel)",
   "language": "python",
   "name": "python3"
  },
  "language_info": {
   "codemirror_mode": {
    "name": "ipython",
    "version": 3
   },
   "file_extension": ".py",
   "mimetype": "text/x-python",
   "name": "python",
   "nbconvert_exporter": "python",
   "pygments_lexer": "ipython3",
   "version": "3.9.6"
  }
 },
 "nbformat": 4,
 "nbformat_minor": 5
}
