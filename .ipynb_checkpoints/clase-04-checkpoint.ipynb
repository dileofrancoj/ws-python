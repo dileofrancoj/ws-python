{
 "cells": [
  {
   "cell_type": "markdown",
   "id": "e7a712d2-1d54-42e9-bd1d-fd22551b69d6",
   "metadata": {},
   "source": [
    "> Aprovechen que hoy corto 19:40\n",
    "# Repaso de funciones 🐍\n",
    "\n",
    "### ¿Es primo el numero?"
   ]
  },
  {
   "cell_type": "code",
   "execution_count": 1,
   "id": "c67811e7-e6cd-4279-95c4-29b76e0c7b49",
   "metadata": {},
   "outputs": [],
   "source": [
    "# SOLID -> Single responsability\n",
    "# Crear una función llamada \"es_primo\" que reciba un número positivo como parámetro -> devolver True / False"
   ]
  },
  {
   "cell_type": "code",
   "execution_count": 50,
   "id": "89557f9b-e160-460d-8872-66cf943d2707",
   "metadata": {},
   "outputs": [],
   "source": [
    "def es_primo(n):\n",
    "    n_entero = int(n)\n",
    "    # Solo puede dividirse por 1 y por si mismo\n",
    "    # El número 1 no es primo\n",
    "    \n",
    "    # debería lanzar una exception\n",
    "    # early return\n",
    "    if n_entero < 0:\n",
    "        return \"Solo aceptamos numeros positivos o cero\"\n",
    "    if n_entero <= 1:\n",
    "        return False\n",
    "    for i in range(2, n_entero):\n",
    "        if n_entero % i == 0: # si esto sucede, tiene divisores => NO es primo\n",
    "            return False\n",
    "    # si llegamos hasta acá\n",
    "    return True\n",
    "    \n",
    "    # la unica condición que queda es que sea mayor a cero\n",
    "    "
   ]
  },
  {
   "cell_type": "code",
   "execution_count": 48,
   "id": "37b50157-a8fc-4e14-9202-94b4b430e968",
   "metadata": {},
   "outputs": [
    {
     "data": {
      "text/plain": [
       "True"
      ]
     },
     "execution_count": 48,
     "metadata": {},
     "output_type": "execute_result"
    }
   ],
   "source": [
    "es_primo(2)"
   ]
  },
  {
   "cell_type": "code",
   "execution_count": 34,
   "id": "9fca3705-5902-43d5-91f3-816e51905453",
   "metadata": {},
   "outputs": [
    {
     "data": {
      "text/plain": [
       "True"
      ]
     },
     "execution_count": 34,
     "metadata": {},
     "output_type": "execute_result"
    }
   ],
   "source": [
    "# 17\n",
    "\n",
    "# 17 % 2 # si el resto es 1... no es exacta \n",
    "6 % 3 == 0"
   ]
  },
  {
   "cell_type": "markdown",
   "id": "4088467d-8976-4a82-be12-5a8805849f9a",
   "metadata": {},
   "source": [
    "### Diccionarios\n",
    "Estructura de datos que almacena clave-valor"
   ]
  },
  {
   "cell_type": "code",
   "execution_count": 62,
   "id": "100fd505-c82d-408a-a560-0ddbb7f20f41",
   "metadata": {},
   "outputs": [
    {
     "data": {
      "text/plain": [
       "dict"
      ]
     },
     "execution_count": 62,
     "metadata": {},
     "output_type": "execute_result"
    }
   ],
   "source": [
    "franco = {\n",
    "    \"nombre\": \"Franco Di Leo\",\n",
    "    \"edad\": 31,\n",
    "    \"profesion\": \"Desarrollador\",\n",
    "    \"mascotas\": [\n",
    "        \"Amazonas\", \"Perla\"\n",
    "    ]\n",
    "}\n",
    "\n",
    "type(franco)"
   ]
  },
  {
   "cell_type": "code",
   "execution_count": 59,
   "id": "618a3d14-3af5-4491-b100-f7047f7217f2",
   "metadata": {},
   "outputs": [
    {
     "name": "stdout",
     "output_type": "stream",
     "text": [
      "Franco Di Leo tiene 2 mascotas, la última de la lista es Perla\n"
     ]
    }
   ],
   "source": [
    "print(f\"{franco['nombre']} tiene {len(franco['mascotas'])} mascotas, la última de la lista es {franco['mascotas'][-1]}\")"
   ]
  },
  {
   "cell_type": "code",
   "execution_count": 64,
   "id": "4311fe41-b83f-4e40-871a-6af8a49850b3",
   "metadata": {},
   "outputs": [],
   "source": [
    "# Nombre y tipo de la última mascota de la lista mas_de_fran"
   ]
  },
  {
   "cell_type": "code",
   "execution_count": 66,
   "id": "9fb7e8a6-3c0c-4e92-968e-c355ca8958e0",
   "metadata": {},
   "outputs": [],
   "source": [
    "mas_de_fran = {\n",
    "    \"nombre\": \"Franco Di Leo\",\n",
    "    \"edad\": 31,\n",
    "    \"profesion\": \"Desarrollador\",\n",
    "    \"mascotas\": [\n",
    "       {\n",
    "           \"tipo\": \"Perro\",\n",
    "           \"nombre\": \"Amazonas\",\n",
    "           \"edad\": 4\n",
    "       },\n",
    "        {\n",
    "           \"tipo\": \"Tortuga\",\n",
    "           \"nombre\": \"squirtle\",\n",
    "           \"edad\": 1\n",
    "       },\n",
    "    ]\n",
    "}"
   ]
  },
  {
   "cell_type": "code",
   "execution_count": 69,
   "id": "995b3889-560c-4c9b-8e6a-16e6d758f4b6",
   "metadata": {},
   "outputs": [
    {
     "data": {
      "text/plain": [
       "{'nombre': 'Franco Di Leo',\n",
       " 'edad': 31,\n",
       " 'profesion': 'Desarrollador',\n",
       " 'mascotas': [{'tipo': 'Perro', 'nombre': 'Amazonas', 'edad': 4},\n",
       "  {'tipo': 'Tortuga', 'nombre': 'squirtle', 'edad': 1}]}"
      ]
     },
     "execution_count": 69,
     "metadata": {},
     "output_type": "execute_result"
    }
   ],
   "source": [
    "mas_de_fran"
   ]
  },
  {
   "cell_type": "code",
   "execution_count": 78,
   "id": "7ca7aef4-4b10-4d4f-ab4b-4af20ee9689c",
   "metadata": {},
   "outputs": [
    {
     "data": {
      "text/plain": [
       "'squirtle Tortuga'"
      ]
     },
     "execution_count": 78,
     "metadata": {},
     "output_type": "execute_result"
    }
   ],
   "source": [
    "mas_de_fran[\"mascotas\"][-1][\"nombre\"] + \" \"+  mas_de_fran[\"mascotas\"][-1][\"tipo\"] "
   ]
  },
  {
   "cell_type": "code",
   "execution_count": 79,
   "id": "f7643e24-40e3-455d-9b81-59764df42877",
   "metadata": {},
   "outputs": [
    {
     "name": "stdout",
     "output_type": "stream",
     "text": [
      "squirtle\n"
     ]
    }
   ],
   "source": [
    "print(mas_de_fran[\"mascotas\"][-1][\"nombre\"])"
   ]
  },
  {
   "cell_type": "code",
   "execution_count": 80,
   "id": "6a810ce6-1d81-4b2e-a37a-3ddee08aae67",
   "metadata": {},
   "outputs": [],
   "source": [
    "alex = {\n",
    "    \"nombre\": \"Alexander Del Risco\",\n",
    "    \"apodo\": False,\n",
    "    \"hobbies\": [\"Futbol\", \"Lectura\", \"Canto\"],\n",
    "    \"herramientas_laborales\" : [\n",
    "        {\n",
    "            \"nombre\": \"Power Apps\",\n",
    "            \"nivel\": 10\n",
    "        },\n",
    "        {\n",
    "            \"nombre\": \"Power Automate\",\n",
    "            \"nivel\": 7\n",
    "        },\n",
    "    ],\n",
    "    \"idiomas\": [\"Español\", \"Inglés\"]\n",
    "}"
   ]
  },
  {
   "cell_type": "code",
   "execution_count": 86,
   "id": "f231b5fc-1f77-4ce3-9743-687d90ae3de6",
   "metadata": {},
   "outputs": [
    {
     "name": "stdout",
     "output_type": "stream",
     "text": [
      "Alexander Del Risco maneja: \n",
      "-  Power Apps\n",
      "-  Power Automate\n"
     ]
    }
   ],
   "source": [
    "# como mostramos el nombre de TODAS las herramientas laborales que maneja Alex?\n",
    "print(alex[\"nombre\"], \"maneja: \")\n",
    "for herramienta in alex[\"herramientas_laborales\"]:\n",
    "    print(\"- \",herramienta[\"nombre\"])"
   ]
  },
  {
   "cell_type": "markdown",
   "id": "3d5af278-8a25-4f11-b74f-da20f7241d9e",
   "metadata": {},
   "source": [
    "### Pandas / Polars\n",
    "Pandas es una librería de Python especializada en el manejo y análisis de estructuras de datos.\n",
    "\n",
    "Las principales características de esta librería son:\n",
    "\n",
    "- Define nuevas estructuras de datos basadas en los arrays de la librería NumPy pero con nuevas funcionalidades.\n",
    "- Permite leer y escribir fácilmente ficheros en formato CSV, Excel y bases de datos SQL.\n",
    "- Permite acceder a los datos mediante índices o nombres para filas y columnas.\n",
    "- Ofrece métodos para reordenar, dividir y combinar conjuntos de datos.\n",
    "- Permite trabajar con series temporales.\n",
    "- Realiza todas estas operaciones de manera muy eficiente."
   ]
  },
  {
   "cell_type": "code",
   "execution_count": 87,
   "id": "ab10eb0d-e624-43c9-a92c-d119419f76ff",
   "metadata": {},
   "outputs": [],
   "source": [
    "import pandas as pd # alias -> forma abreviada de llamar a nuestra libreria"
   ]
  },
  {
   "cell_type": "code",
   "execution_count": null,
   "id": "e63648d1-1181-4f9d-8a64-635cdf50bf94",
   "metadata": {},
   "outputs": [],
   "source": []
  }
 ],
 "metadata": {
  "kernelspec": {
   "display_name": "Python 3 (ipykernel)",
   "language": "python",
   "name": "python3"
  },
  "language_info": {
   "codemirror_mode": {
    "name": "ipython",
    "version": 3
   },
   "file_extension": ".py",
   "mimetype": "text/x-python",
   "name": "python",
   "nbconvert_exporter": "python",
   "pygments_lexer": "ipython3",
   "version": "3.9.6"
  }
 },
 "nbformat": 4,
 "nbformat_minor": 5
}
